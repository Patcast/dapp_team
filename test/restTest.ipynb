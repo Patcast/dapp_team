{
 "cells": [
  {
   "cell_type": "code",
   "execution_count": 100,
   "id": "6c115320",
   "metadata": {
    "scrolled": true
   },
   "outputs": [],
   "source": [
    "import pycurl\n",
    "import certifi\n",
    "from io import BytesIO\n",
    "import asyncio\n",
    "import aiocurl\n"
   ]
  },
  {
   "cell_type": "markdown",
   "id": "6867ffe5",
   "metadata": {},
   "source": [
    "# REST test"
   ]
  },
  {
   "cell_type": "code",
   "execution_count": 35,
   "id": "598fc841",
   "metadata": {},
   "outputs": [],
   "source": [
    "\n",
    "def restRequest(ipAddr,port,buffer):\n",
    "\n",
    "    url = ipAddr+\":\"+port+\"/restrpc/meals\"\n",
    "    c = pycurl.Curl()\n",
    "    \n",
    "    c.setopt(c.URL, url)\n",
    "    c.setopt(c.WRITEDATA, buffer)\n",
    "    c.setopt(c.CAINFO, certifi.where())\n",
    "    \n",
    "    c.perform()\n",
    "    c.close()\n",
    "    return buffer"
   ]
  },
  {
   "cell_type": "code",
   "execution_count": 36,
   "id": "38e601de",
   "metadata": {},
   "outputs": [
    {
     "name": "stdout",
     "output_type": "stream",
     "text": [
      "550\n"
     ]
    }
   ],
   "source": [
    "\n",
    "buffer = BytesIO()\n",
    "buffer = restRequest(\"localhost\",\"8080\",buffer)\n",
    "#retrieve the content BytesIO\n",
    "body = buffer.getvalue()\n",
    "#print(body.decode('iso-8859-1'))\n",
    "print(len(body))"
   ]
  },
  {
   "cell_type": "code",
   "execution_count": 115,
   "id": "87aa4448",
   "metadata": {},
   "outputs": [],
   "source": [
    "async def restRequestAsync(ipAddr, port):\n",
    "    url = f\"http://{ipAddr}:{port}/restrpc/meals\"\n",
    "    \n",
    "    curl = aiocurl.Curl()\n",
    "    curl.setopt(aiocurl.URL, url)\n",
    "\n",
    "    try:\n",
    "        response = await curl.perform()\n",
    "    except Exception as e:\n",
    "        print(f\"Error making request: {e}\")\n",
    "        curl.close()\n",
    "        return\n",
    "\n",
    "    print('Response code:\\t', curl.getinfo(aiocurl.HTTP_CODE))\n",
    "    print('Total time:\\t', curl.getinfo(aiocurl.TOTAL_TIME))\n",
    "    print('Response size:\\t', curl.getinfo(aiocurl.SIZE_DOWNLOAD))\n",
    "\n",
    "    curl.close()\n",
    "    \n",
    "  "
   ]
  },
  {
   "cell_type": "code",
   "execution_count": 116,
   "id": "359d2e3b",
   "metadata": {},
   "outputs": [
    {
     "name": "stdout",
     "output_type": "stream",
     "text": [
      "Response code:\t 200\n",
      "Total time:\t 0.003841\n",
      "Response size:\t 550.0\n"
     ]
    }
   ],
   "source": [
    "    \n",
    "await restRequestAsync(\"localhost\",\"8080\")  "
   ]
  },
  {
   "cell_type": "code",
   "execution_count": null,
   "id": "14dcb22c",
   "metadata": {},
   "outputs": [],
   "source": []
  }
 ],
 "metadata": {
  "kernelspec": {
   "display_name": "Python 3 (ipykernel)",
   "language": "python",
   "name": "python3"
  },
  "language_info": {
   "codemirror_mode": {
    "name": "ipython",
    "version": 3
   },
   "file_extension": ".py",
   "mimetype": "text/x-python",
   "name": "python",
   "nbconvert_exporter": "python",
   "pygments_lexer": "ipython3",
   "version": "3.9.7"
  }
 },
 "nbformat": 4,
 "nbformat_minor": 5
}
