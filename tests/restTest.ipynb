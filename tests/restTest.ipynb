{
 "cells": [
  {
   "cell_type": "markdown",
   "id": "3b9e8a15",
   "metadata": {},
   "source": [
    "# Distributed Applications REST and SOAP test\n",
    "## Libraries"
   ]
  },
  {
   "cell_type": "code",
   "execution_count": 1,
   "id": "6c115320",
   "metadata": {
    "scrolled": true
   },
   "outputs": [
    {
     "name": "stdout",
     "output_type": "stream",
     "text": [
      "Defaulting to user installation because normal site-packages is not writeable\n",
      "Requirement already satisfied: pandas in /home/filip/.local/lib/python3.10/site-packages (2.0.1)\n",
      "Requirement already satisfied: tzdata>=2022.1 in /home/filip/.local/lib/python3.10/site-packages (from pandas) (2023.3)\n",
      "Requirement already satisfied: python-dateutil>=2.8.2 in /home/filip/.local/lib/python3.10/site-packages (from pandas) (2.8.2)\n",
      "Requirement already satisfied: pytz>=2020.1 in /usr/lib/python3/dist-packages (from pandas) (2022.1)\n",
      "Requirement already satisfied: numpy>=1.21.0 in /usr/lib/python3/dist-packages (from pandas) (1.21.5)\n",
      "Requirement already satisfied: six>=1.5 in /usr/lib/python3/dist-packages (from python-dateutil>=2.8.2->pandas) (1.16.0)\n",
      "Defaulting to user installation because normal site-packages is not writeable\n",
      "Requirement already satisfied: aiocurl in /usr/local/lib/python3.10/dist-packages (0.0.3.post1)\n",
      "Requirement already satisfied: pycurl>=7.43.0.4 in /usr/local/lib/python3.10/dist-packages (from aiocurl) (7.45.2)\n"
     ]
    }
   ],
   "source": [
    "!pip install pandas\n",
    "!pip install aiocurl\n",
    "#IF ERROR: sudo apt install libcurl4-openssl-dev libssl-dev\n",
    "\n",
    "import asyncio\n",
    "import nest_asyncio\n",
    "\n",
    "import numpy as np\n",
    "import pandas as pd\n",
    "\n",
    "import os\n",
    "import sys\n",
    "import requests\n",
    "\n",
    "import math\n",
    "import time\n",
    "import threading "
   ]
  },
  {
   "cell_type": "markdown",
   "id": "6867ffe5",
   "metadata": {},
   "source": [
    "## Utility Functions"
   ]
  },
  {
   "cell_type": "markdown",
   "id": "677968ac",
   "metadata": {},
   "source": [
    "### Open Servers"
   ]
  },
  {
   "cell_type": "code",
   "execution_count": 2,
   "id": "ec872f7c",
   "metadata": {},
   "outputs": [],
   "source": [
    "port = 8083\n",
    "\n",
    "def startEUServer():\n",
    "    psw = 'distributed@10'\n",
    "    vm = 'yonira@yonira.westeurope.cloudapp.azure.com'\n",
    "    cmd = 'java -jar -Dspring.profiles.active=prod rest.jar'\n",
    "    os.system('sshpass -p ' + psw + ' ssh -tt ' + vm + ' \"' + cmd + '\"')\n",
    "\n",
    "def startJAPServer():\n",
    "    psw = 'distributed@10'\n",
    "    vm = 'yonira@super.japaneast.cloudapp.azure.com'\n",
    "    cmd = 'java -jar -Dspring.profiles.active=prod rest.jar'\n",
    "    os.system('sshpass -p ' + psw + ' ssh -tt ' + vm + ' \"' + cmd + '\"')\n",
    "    \n",
    "    \n",
    "def startUSWServer():\n",
    "    psw = 'Haslo1234567890'\n",
    "    vm = 'filip@filip.westus3.cloudapp.azure.com'\n",
    "    cmd = 'java -jar -Dspring.profiles.active=prod rest.jar'\n",
    "    os.system('sshpass -p ' + psw + ' ssh -tt ' + vm + ' \"' + cmd + '\"')\n",
    "\n",
    "def startUSEServer():\n",
    "    psw = 'DistributedApplications1'\n",
    "    vm = 'thant@thant.eastus.cloudapp.azure.com'\n",
    "    cmd = 'java -jar -Dspring.profiles.active=prod rest.jar'\n",
    "    os.system('sshpass -p ' + psw + ' ssh -tt ' + vm + ' \"' + cmd + '\"')\n",
    "\n",
    "#startEUServer()\n",
    "#url = \"http://yonira.westeurope.cloudapp.azure.com:\" + str(port) + \"/restrpc/meals\"\n",
    "\n",
    "#startJAPServer()\n",
    "#url = \"http://super.japaneast.cloudapp.azure.com:\" + str(port) + \"/restrpc/meals\"\n",
    "\n",
    "#startUSWServer()\n",
    "url = \"http://filip.westus3.cloudapp.azure.com:\" + str(port) + \"/restrpc/meals\"\n",
    "\n",
    "#startUSEServer()\n",
    "#url = \"http://thant.eastus.cloudapp.azure.com:\" + str(port) + \"/restrpc/meals\""
   ]
  },
  {
   "cell_type": "markdown",
   "id": "e3390d1d",
   "metadata": {},
   "source": [
    "### RestRequestAsync method\n",
    "\n",
    "Makes a request to the given URL\n"
   ]
  },
  {
   "cell_type": "code",
   "execution_count": 3,
   "id": "41702d89",
   "metadata": {},
   "outputs": [],
   "source": [
    "async def restRequestAsync(url, requestNumPerTraffic) -> None:\n",
    "    curl = aiocurl.Curl()\n",
    "    curl.setopt(aiocurl.URL, url)\n",
    "    curl.setopt(aiocurl.VERBOSE, False)\n",
    "    try:\n",
    "        response = await curl.perform()\n",
    "        if (response.status_code != 200):\n",
    "            curl.close()\n",
    "            print('BAD', end = \" \")\n",
    "        \n",
    "    except Exception as e:\n",
    "        raise 'REQUEST ERR'\n",
    "        \n",
    "    curl.close()"
   ]
  },
  {
   "cell_type": "markdown",
   "id": "10105b50",
   "metadata": {},
   "source": [
    "### BackgroundRequest method\n",
    "Creates tasks that run restRequestAsync method continuously"
   ]
  },
  {
   "cell_type": "code",
   "execution_count": 4,
   "id": "84f6d6b4",
   "metadata": {},
   "outputs": [],
   "source": [
    "async def backgroundRequest(url, requestNum):\n",
    "    print(\"\\nTESTING WITH \" + str(requestNum) + \" REQUESTS:\")\n",
    "    background_tasks = set()\n",
    "    \n",
    "    for i in range(requestNum):\n",
    "        task = asyncio.create_task(restRequestAsync(url, requestNum))\n",
    "        background_tasks.add(task)\n",
    "        task.add_done_callback(background_tasks.discard)"
   ]
  },
  {
   "cell_type": "markdown",
   "id": "054a5e9a",
   "metadata": {},
   "source": [
    "### Asynchronous Traffic and Request Generator\n",
    "\n",
    "Generates asynchronous traffic and request to a server in the background. It creates a task for making requests and stores the results in an array, and another task for sending traffic requests. The method then waits for a specified period before making the next request."
   ]
  },
  {
   "cell_type": "code",
   "execution_count": 5,
   "id": "b213e4ba",
   "metadata": {},
   "outputs": [],
   "source": [
    "async def main(requestNum, requestNumMultiplier, requestNumPerTraffic, url, resultsArray):\n",
    "    counter = 0\n",
    "    exponent = 0\n",
    "    for i in range(requestNum):\n",
    "        try:\n",
    "            start_create = time.time()\n",
    "            requestTask = asyncio.create_task(restRequestAsync(url, requestNumMultiplier ** exponent))\n",
    "            trafficTask = asyncio.create_task(backgroundRequest(url, requestNumMultiplier ** exponent))\n",
    "            end_create = time.time()\n",
    "            \n",
    "            await asyncio.wait_for(requestTask, 1000000)\n",
    "            end_request = time.time()\n",
    "            \n",
    "            await asyncio.wait_for(trafficTask, 1000000)\n",
    "            end_traffic = time.time()\n",
    "        \n",
    "            \n",
    "            resultsArray[i, 0] =  requestNumMultiplier ** exponent\n",
    "            resultsArray[i, 1] =  end_create - start_create\n",
    "            \n",
    "            print(\"\\nTime Elapsed Create:\", end_create - start_create)\n",
    "            print(\"\\nTime Elapsed Request:\", end_request - start_create)\n",
    "            print(\"\\nTime Elapsed Traffic:\", end_traffic - start_create)\n",
    "            \n",
    "            counter += 1\n",
    "            if counter >= requestNumPerTraffic: \n",
    "                counter = 0\n",
    "                exponent += 1\n",
    "        \n",
    "        except Exception as e:\n",
    "            print(f\"Could not connect\")\n",
    "            print(e)\n",
    "            break\n"
   ]
  },
  {
   "cell_type": "markdown",
   "id": "9b2d1449",
   "metadata": {},
   "source": [
    "# TEST\n",
    "Define the parameters for the test and run it."
   ]
  },
  {
   "cell_type": "code",
   "execution_count": 6,
   "id": "9ebd784f",
   "metadata": {},
   "outputs": [
    {
     "name": "stdout",
     "output_type": "stream",
     "text": [
      "\n",
      "TESTING WITH 1 REQUESTS:\n",
      "Could not connect\n",
      "name 'aiocurl' is not defined\n"
     ]
    }
   ],
   "source": [
    "requestNumPerTraffic = 3\n",
    "requestNumMultiplier = 2\n",
    "requestNum = 24\n",
    "resultsArray = np.zeros((requestNum, 2))\n",
    "\n",
    "nest_asyncio.apply()\n",
    "asyncio.run(main(requestNum, requestNumMultiplier, requestNumPerTraffic, url, resultsArray))"
   ]
  },
  {
   "cell_type": "markdown",
   "id": "f894c517",
   "metadata": {},
   "source": [
    "## Print results"
   ]
  },
  {
   "cell_type": "code",
   "execution_count": 7,
   "id": "14dcb22c",
   "metadata": {
    "scrolled": true
   },
   "outputs": [
    {
     "name": "stdout",
     "output_type": "stream",
     "text": [
      "requests\n",
      "0.0    0.0\n",
      "Name: time, dtype: float64\n"
     ]
    },
    {
     "name": "stderr",
     "output_type": "stream",
     "text": [
      "Traceback (most recent call last):\n",
      "  File \"/usr/lib/python3.10/runpy.py\", line 196, in _run_module_as_main\n",
      "    return _run_code(code, main_globals, None,\n",
      "  File \"/usr/lib/python3.10/runpy.py\", line 86, in _run_code\n",
      "    exec(code, run_globals)\n",
      "  File \"/usr/lib/python3/dist-packages/ipykernel_launcher.py\", line 16, in <module>\n",
      "    app.launch_new_instance()\n",
      "  File \"/usr/lib/python3/dist-packages/traitlets/config/application.py\", line 846, in launch_instance\n",
      "    app.start()\n",
      "  File \"/usr/lib/python3/dist-packages/ipykernel/kernelapp.py\", line 677, in start\n",
      "    self.io_loop.start()\n",
      "  File \"/usr/lib/python3/dist-packages/tornado/platform/asyncio.py\", line 199, in start\n",
      "    self.asyncio_loop.run_forever()\n",
      "  File \"/usr/lib/python3.10/asyncio/base_events.py\", line 600, in run_forever\n",
      "    self._run_once()\n",
      "  File \"/usr/lib/python3.10/asyncio/base_events.py\", line 1881, in _run_once\n",
      "    handle = self._ready.popleft()\n",
      "IndexError: pop from an empty deque\n",
      "Task exception was never retrieved\n",
      "future: <Task finished name='Task-4' coro=<restRequestAsync() done, defined at /tmp/ipykernel_5577/2512176857.py:1> exception=NameError(\"name 'aiocurl' is not defined\")>\n",
      "Traceback (most recent call last):\n",
      "  File \"/usr/lib/python3.10/asyncio/tasks.py\", line 232, in __step\n",
      "    result = coro.send(None)\n",
      "  File \"/tmp/ipykernel_5577/2512176857.py\", line 2, in restRequestAsync\n",
      "    curl = aiocurl.Curl()\n",
      "NameError: name 'aiocurl' is not defined\n"
     ]
    }
   ],
   "source": [
    "np.set_printoptions(precision = 4, suppress = True)\n",
    "df = pd.DataFrame(resultsArray, columns = ['requests', 'time'])\n",
    "df = df.groupby(['requests'])['time'].mean()\n",
    "print(df.T)"
   ]
  },
  {
   "cell_type": "code",
   "execution_count": null,
   "id": "4721b5d7",
   "metadata": {},
   "outputs": [],
   "source": []
  },
  {
   "cell_type": "code",
   "execution_count": null,
   "id": "62bed4e7",
   "metadata": {},
   "outputs": [],
   "source": []
  }
 ],
 "metadata": {
  "kernelspec": {
   "display_name": "Python 3 (ipykernel)",
   "language": "python",
   "name": "python3"
  },
  "language_info": {
   "codemirror_mode": {
    "name": "ipython",
    "version": 3
   },
   "file_extension": ".py",
   "mimetype": "text/x-python",
   "name": "python",
   "nbconvert_exporter": "python",
   "pygments_lexer": "ipython3",
   "version": "3.10.6"
  }
 },
 "nbformat": 4,
 "nbformat_minor": 5
}
