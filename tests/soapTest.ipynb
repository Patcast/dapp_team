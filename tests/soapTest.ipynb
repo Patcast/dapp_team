{
 "cells": [
  {
   "cell_type": "markdown",
   "id": "3b9e8a15",
   "metadata": {},
   "source": [
    "# Distributed Applications REST and SOAP test\n",
    "## Libraries"
   ]
  },
  {
   "cell_type": "code",
   "execution_count": 1,
   "id": "6c115320",
   "metadata": {
    "scrolled": true
   },
   "outputs": [
    {
     "name": "stdout",
     "output_type": "stream",
     "text": [
      "Defaulting to user installation because normal site-packages is not writeable\n",
      "Requirement already satisfied: pandas in /home/filip/.local/lib/python3.10/site-packages (2.0.1)\n",
      "Requirement already satisfied: pytz>=2020.1 in /usr/lib/python3/dist-packages (from pandas) (2022.1)\n",
      "Requirement already satisfied: numpy>=1.21.0 in /usr/lib/python3/dist-packages (from pandas) (1.21.5)\n",
      "Requirement already satisfied: python-dateutil>=2.8.2 in /home/filip/.local/lib/python3.10/site-packages (from pandas) (2.8.2)\n",
      "Requirement already satisfied: tzdata>=2022.1 in /home/filip/.local/lib/python3.10/site-packages (from pandas) (2023.3)\n",
      "Requirement already satisfied: six>=1.5 in /usr/lib/python3/dist-packages (from python-dateutil>=2.8.2->pandas) (1.16.0)\n",
      "Defaulting to user installation because normal site-packages is not writeable\n",
      "Requirement already satisfied: aiocurl in /usr/local/lib/python3.10/dist-packages (0.0.3.post1)\n",
      "Requirement already satisfied: pycurl>=7.43.0.4 in /usr/local/lib/python3.10/dist-packages (from aiocurl) (7.45.2)\n"
     ]
    }
   ],
   "source": [
    "!pip install pandas\n",
    "!pip install aiocurl\n",
    "#IF ERROR: sudo apt install libcurl4-openssl-dev libssl-dev\n",
    "\n",
    "import asyncio\n",
    "import nest_asyncio\n",
    "\n",
    "import numpy as np\n",
    "import pandas as pd\n",
    "import xml.etree as et\n",
    "\n",
    "import os\n",
    "import sys\n",
    "import requests\n",
    "\n",
    "import math\n",
    "import time\n",
    "import threading "
   ]
  },
  {
   "cell_type": "markdown",
   "id": "6867ffe5",
   "metadata": {},
   "source": [
    "## Utility Functions"
   ]
  },
  {
   "cell_type": "markdown",
   "id": "677968ac",
   "metadata": {},
   "source": [
    "### Open Servers"
   ]
  },
  {
   "cell_type": "code",
   "execution_count": 2,
   "id": "ec872f7c",
   "metadata": {},
   "outputs": [
    {
     "name": "stdout",
     "output_type": "stream",
     "text": [
      "SERVER: http://yonira.westeurope.cloudapp.azure.com:8082/ws\n",
      "HEADERS: {'content-type': 'text/xml'}\n",
      "XML FILE:\n",
      " <soapenv:Envelope xmlns:soapenv=\"http://schemas.xmlsoap.org/soap/envelope/\"\n",
      "                  xmlns:gs=\"http://foodmenu.io/gt/webservice\">\n",
      "    <soapenv:Header/>\n",
      "    <soapenv:Body>\n",
      "        <gs:addOrderRequest>\n",
      "            <gs:name>John Doe</gs:name>\n",
      "            <gs:address>123 Main St.</gs:address>\n",
      "            <gs:ordersName>Portobello</gs:ordersName>\n",
      "            <gs:amount>1</gs:amount>\n",
      "        </gs:addOrderRequest>\n",
      "    </soapenv:Body>\n",
      "</soapenv:Envelope>\n",
      "\n"
     ]
    }
   ],
   "source": [
    "port = 8082\n",
    "\n",
    "def startUSEServer():\n",
    "    psw = 'DistributedApplications1'\n",
    "    vm = 'thant@thant.eastus.cloudapp.azure.com'\n",
    "    cmd = 'java -jar soap.jar'\n",
    "    os.system('sshpass -p ' + psw + ' ssh -tt ' + vm + ' \"' + cmd + '\"')\n",
    "\n",
    "#startEUServer()\n",
    "\n",
    "url = \"http://yonira.westeurope.cloudapp.azure.com:\" + str(port) + \"/ws\"\n",
    "print(\"SERVER:\", url)\n",
    "\n",
    "headers = {'content-type': 'text/xml'}\n",
    "print(\"HEADERS:\", headers)\n",
    "\n",
    "with open('requestaddorder.xml', 'r') as f:\n",
    "    data = f.read()\n",
    "\n",
    "body = data\n",
    "print(\"XML FILE:\\n\", data)"
   ]
  },
  {
   "cell_type": "markdown",
   "id": "e3390d1d",
   "metadata": {},
   "source": [
    "### RestRequestAsync method\n",
    "\n",
    "Makes a request to the given URL\n"
   ]
  },
  {
   "cell_type": "code",
   "execution_count": 3,
   "id": "41702d89",
   "metadata": {},
   "outputs": [],
   "source": [
    "async def restRequestAsync(url, requestNumPerTraffic) -> None:\n",
    "    try:\n",
    "        response = requests.post(url,data = body,headers = headers)\n",
    "        if (response.status_code != 200):\n",
    "            print('BAD', end = \" \")\n",
    "        else:\n",
    "            print('OK', end = \" \")\n",
    "        \n",
    "    except Exception as e:\n",
    "        raise 'REQUEST ERR'"
   ]
  },
  {
   "cell_type": "markdown",
   "id": "10105b50",
   "metadata": {},
   "source": [
    "### BackgroundRequest method\n",
    "Creates tasks that run restRequestAsync method continuously"
   ]
  },
  {
   "cell_type": "code",
   "execution_count": 4,
   "id": "84f6d6b4",
   "metadata": {},
   "outputs": [],
   "source": [
    "async def backgroundRequest(url, requestNum):\n",
    "    print(\"\\nTESTING WITH \" + str(requestNum) + \" REQUESTS:\")\n",
    "    background_tasks = set()\n",
    "    \n",
    "    for i in range(requestNum):\n",
    "        task = asyncio.create_task(restRequestAsync(url, requestNum))\n",
    "        background_tasks.add(task)\n",
    "        task.add_done_callback(background_tasks.discard)"
   ]
  },
  {
   "cell_type": "markdown",
   "id": "054a5e9a",
   "metadata": {},
   "source": [
    "### Asynchronous Traffic and Request Generator\n",
    "\n",
    "Generates asynchronous traffic and request to a server in the background. It creates a task for making requests and stores the results in an array, and another task for sending traffic requests. The method then waits for a specified period before making the next request."
   ]
  },
  {
   "cell_type": "code",
   "execution_count": 5,
   "id": "b213e4ba",
   "metadata": {},
   "outputs": [],
   "source": [
    "async def main(requestNum, requestNumMultiplier, requestNumPerTraffic, url, resultsArray):\n",
    "    counter = 0\n",
    "    exponent = 0\n",
    "    for i in range(requestNum):\n",
    "        try:\n",
    "            start = time.time()\n",
    "            requestTask = asyncio.create_task(restRequestAsync(url, requestNumMultiplier ** exponent))\n",
    "            trafficTask = asyncio.create_task(backgroundRequest(url, requestNumMultiplier ** exponent))\n",
    "            await asyncio.wait_for(requestTask, 10000)\n",
    "            end = time.time()\n",
    "            \n",
    "            resultsArray[i, 0] =  requestNumMultiplier ** exponent\n",
    "            resultsArray[i, 1] =  end - start\n",
    "            print(\"\\nTime Elapsed:\", end - start)\n",
    "            \n",
    "            counter += 1\n",
    "            if counter >= requestNumPerTraffic: \n",
    "                counter = 0\n",
    "                exponent += 1\n",
    "        \n",
    "        except Exception as e:\n",
    "            print(f\"Could not connect\")\n",
    "            print(e)\n",
    "            break\n",
    "\n",
    "    "
   ]
  },
  {
   "cell_type": "markdown",
   "id": "9b2d1449",
   "metadata": {},
   "source": [
    "# TEST\n",
    "Define the parameters for the test and run it."
   ]
  },
  {
   "cell_type": "code",
   "execution_count": 6,
   "id": "9ebd784f",
   "metadata": {},
   "outputs": [
    {
     "name": "stdout",
     "output_type": "stream",
     "text": [
      "OK \n",
      "TESTING WITH 1 REQUESTS:\n",
      "OK \n",
      "Time Elapsed: 0.23448562622070312\n",
      "OK \n",
      "TESTING WITH 1 REQUESTS:\n",
      "OK \n",
      "Time Elapsed: 0.2891221046447754\n",
      "OK \n",
      "TESTING WITH 1 REQUESTS:\n",
      "OK \n",
      "Time Elapsed: 0.11868143081665039\n",
      "OK \n",
      "TESTING WITH 2 REQUESTS:\n",
      "OK OK \n",
      "Time Elapsed: 0.26984119415283203\n",
      "OK \n",
      "TESTING WITH 2 REQUESTS:\n",
      "OK OK \n",
      "Time Elapsed: 0.19956111907958984\n",
      "OK \n",
      "TESTING WITH 2 REQUESTS:\n",
      "OK OK \n",
      "Time Elapsed: 0.30690860748291016\n",
      "OK \n",
      "TESTING WITH 4 REQUESTS:\n",
      "OK OK OK OK \n",
      "Time Elapsed: 0.36177802085876465\n",
      "OK \n",
      "TESTING WITH 4 REQUESTS:\n",
      "OK OK OK OK \n",
      "Time Elapsed: 0.4603278636932373\n",
      "OK \n",
      "TESTING WITH 4 REQUESTS:\n",
      "OK OK OK OK \n",
      "Time Elapsed: 0.404510498046875\n",
      "OK \n",
      "TESTING WITH 8 REQUESTS:\n",
      "OK OK OK OK OK OK OK OK \n",
      "Time Elapsed: 0.49076223373413086\n",
      "OK \n",
      "TESTING WITH 8 REQUESTS:\n",
      "OK OK OK OK OK OK OK OK \n",
      "Time Elapsed: 0.5430359840393066\n",
      "OK \n",
      "TESTING WITH 8 REQUESTS:\n",
      "OK OK OK OK OK OK OK OK \n",
      "Time Elapsed: 0.5090343952178955\n",
      "OK \n",
      "TESTING WITH 16 REQUESTS:\n",
      "OK OK OK OK OK OK OK OK OK OK OK OK OK OK OK OK \n",
      "Time Elapsed: 0.9964902400970459\n",
      "OK \n",
      "TESTING WITH 16 REQUESTS:\n",
      "OK OK OK OK OK OK OK OK OK OK OK OK OK OK OK OK \n",
      "Time Elapsed: 1.007070541381836\n",
      "OK \n",
      "TESTING WITH 16 REQUESTS:\n",
      "OK OK OK OK OK OK OK OK OK OK OK OK OK OK OK OK \n",
      "Time Elapsed: 1.049051284790039\n",
      "OK \n",
      "TESTING WITH 32 REQUESTS:\n",
      "OK OK OK OK OK OK OK OK OK OK OK OK OK OK OK OK OK OK OK OK OK OK OK OK OK OK OK OK OK OK OK OK \n",
      "Time Elapsed: 2.038834571838379\n",
      "OK \n",
      "TESTING WITH 32 REQUESTS:\n",
      "OK OK OK OK OK OK OK OK OK OK OK OK OK OK OK OK OK OK OK OK OK OK OK OK OK OK OK OK OK OK OK OK \n",
      "Time Elapsed: 2.0797276496887207\n",
      "OK \n",
      "TESTING WITH 32 REQUESTS:\n",
      "OK OK OK OK OK OK OK OK OK OK OK OK OK OK OK OK OK OK OK OK OK OK OK OK OK OK OK OK OK OK OK OK \n",
      "Time Elapsed: 1.9378767013549805\n",
      "OK \n",
      "TESTING WITH 64 REQUESTS:\n",
      "OK OK OK OK OK OK OK OK OK OK OK OK OK OK OK OK OK OK OK OK OK OK OK OK OK OK OK OK OK OK OK OK OK OK OK OK OK OK OK OK OK OK OK OK OK OK OK OK OK OK OK OK OK OK OK OK OK OK OK OK OK OK OK OK \n",
      "Time Elapsed: 3.8446404933929443\n",
      "OK \n",
      "TESTING WITH 64 REQUESTS:\n",
      "OK OK OK OK OK OK OK OK OK OK OK OK OK OK OK OK OK OK OK OK OK OK OK OK OK OK OK OK OK OK OK OK OK OK OK OK OK OK OK OK OK OK OK OK OK OK OK OK OK OK OK OK OK OK OK OK OK OK OK OK OK OK OK OK \n",
      "Time Elapsed: 3.669719934463501\n",
      "OK \n",
      "TESTING WITH 64 REQUESTS:\n",
      "OK OK OK OK OK OK OK OK OK OK OK OK OK OK OK OK OK OK OK OK OK OK OK OK OK OK OK OK OK OK OK OK OK OK OK OK OK OK OK OK OK OK OK OK OK OK OK OK OK OK OK OK OK OK OK OK OK OK OK OK OK OK OK OK \n",
      "Time Elapsed: 3.6235806941986084\n",
      "OK \n",
      "TESTING WITH 128 REQUESTS:\n",
      "OK OK OK OK OK OK OK OK OK OK OK OK OK OK OK OK OK OK OK OK OK OK OK OK OK OK OK OK OK OK OK OK OK OK OK OK OK OK OK OK OK OK OK OK OK OK OK OK OK OK OK OK OK OK OK OK OK OK OK OK OK OK OK OK OK OK OK OK OK OK OK OK OK OK OK OK OK OK OK OK OK OK OK OK OK OK OK OK OK OK OK OK OK OK OK OK OK OK OK OK OK OK OK OK OK OK OK OK OK OK OK OK OK OK OK OK OK OK OK OK OK OK OK OK OK OK OK OK \n",
      "Time Elapsed: 6.9523327350616455\n",
      "OK \n",
      "TESTING WITH 128 REQUESTS:\n",
      "OK OK OK OK OK OK OK OK OK OK OK OK OK OK OK OK OK OK OK OK OK OK OK OK OK OK OK OK OK OK OK OK OK OK OK OK OK OK OK OK OK OK OK OK OK OK OK OK OK OK OK OK OK OK OK OK OK OK OK OK OK OK OK OK OK OK OK OK OK OK OK OK OK OK OK OK OK OK OK OK OK OK OK OK OK OK OK OK OK OK OK OK OK OK OK OK OK OK OK OK OK OK OK OK OK OK OK OK OK OK OK OK OK OK OK OK OK OK OK OK OK OK OK OK OK OK OK OK \n",
      "Time Elapsed: 17.480632305145264\n",
      "OK \n",
      "TESTING WITH 128 REQUESTS:\n",
      "OK OK OK OK OK OK OK OK OK OK OK OK OK OK OK OK OK OK OK OK OK OK OK OK OK OK OK OK OK OK OK OK OK OK OK OK OK OK OK OK OK OK OK OK OK OK OK OK OK OK OK OK OK OK OK OK OK OK OK OK OK OK OK OK OK OK OK OK OK OK OK OK OK OK OK OK OK OK OK OK OK OK OK OK OK OK OK OK OK OK OK OK OK OK OK OK OK OK OK OK OK OK OK OK OK OK OK OK OK OK OK OK OK OK OK OK OK OK OK OK OK OK OK OK OK OK OK OK \n",
      "Time Elapsed: 19.791282176971436\n"
     ]
    }
   ],
   "source": [
    "requestNumPerTraffic = 3\n",
    "requestNumMultiplier = 2\n",
    "requestNum = 24\n",
    "resultsArray = np.zeros((requestNum, 2))\n",
    "\n",
    "nest_asyncio.apply()\n",
    "asyncio.run(main(requestNum, requestNumMultiplier, requestNumPerTraffic, url, resultsArray))"
   ]
  },
  {
   "cell_type": "markdown",
   "id": "f894c517",
   "metadata": {},
   "source": [
    "## Print results"
   ]
  },
  {
   "cell_type": "code",
   "execution_count": 7,
   "id": "14dcb22c",
   "metadata": {
    "scrolled": true
   },
   "outputs": [
    {
     "name": "stdout",
     "output_type": "stream",
     "text": [
      "requests\n",
      "1.0       0.214096\n",
      "2.0       0.258770\n",
      "4.0       0.408872\n",
      "8.0       0.514278\n",
      "16.0      1.017537\n",
      "32.0      2.018813\n",
      "64.0      3.712647\n",
      "128.0    14.741416\n",
      "Name: time, dtype: float64\n"
     ]
    }
   ],
   "source": [
    "np.set_printoptions(precision = 4, suppress = True)\n",
    "df = pd.DataFrame(resultsArray, columns = ['requests', 'time'])\n",
    "df = df.groupby(['requests'])['time'].mean()\n",
    "print(df.T)"
   ]
  },
  {
   "cell_type": "code",
   "execution_count": null,
   "id": "4721b5d7",
   "metadata": {},
   "outputs": [],
   "source": []
  },
  {
   "cell_type": "code",
   "execution_count": null,
   "id": "62bed4e7",
   "metadata": {},
   "outputs": [],
   "source": []
  }
 ],
 "metadata": {
  "kernelspec": {
   "display_name": "Python 3 (ipykernel)",
   "language": "python",
   "name": "python3"
  },
  "language_info": {
   "codemirror_mode": {
    "name": "ipython",
    "version": 3
   },
   "file_extension": ".py",
   "mimetype": "text/x-python",
   "name": "python",
   "nbconvert_exporter": "python",
   "pygments_lexer": "ipython3",
   "version": "3.10.6"
  }
 },
 "nbformat": 4,
 "nbformat_minor": 5
}
